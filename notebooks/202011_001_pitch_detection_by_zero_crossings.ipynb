{
 "cells": [
  {
   "cell_type": "markdown",
   "metadata": {},
   "source": [
    "# Pitch Detection Algorithm (PDA) by using the Zero Crossing Rate (ZCR)\n",
    "\n",
    "Zero-crossing rate is actually a very simple algorithm, but it assumes that the source is monotonous. It counts the number of zero-crossings and every 2 zero-crossings are exactly one period. By that information, it is possible to compute the frequency.\n",
    "\n",
    "Let $R$ be the frames per second and let $F$ be the frames per buffer. Then, one frame is $\\frac{1}{R}$ seconds and every buffer takes $\\frac{F}{R}$ seconds. Let $Z$ be the number of zero-crossings in the buffer, then there are $\\frac{Z}{2}$ periods and that means that the fundamental frequency $f_0 = \\frac{Z \\cdot R}{2 \\cdot F}$."
   ]
  },
  {
   "cell_type": "code",
   "execution_count": 3,
   "metadata": {},
   "outputs": [
    {
     "name": "stdout",
     "output_type": "stream",
     "text": [
      "The autoreload extension is already loaded. To reload it, use:\n",
      "  %reload_ext autoreload\n"
     ]
    }
   ],
   "source": [
    "import pyaudio\n",
    "from IPython.display import display, clear_output, HTML\n",
    "%matplotlib inline\n",
    "\n",
    "import sys\n",
    "sys.path.append('..')\n",
    "%load_ext autoreload\n",
    "%autoreload 2\n",
    "\n",
    "from pitch_detection.utilities import *\n",
    "from pitch_detection.algorithms import *"
   ]
  },
  {
   "cell_type": "code",
   "execution_count": 4,
   "metadata": {},
   "outputs": [
    {
     "data": {
      "text/html": [
       "<span style=\"background-color: rgb(0, 176, 0); padding: 20px 0; width: 100px; text-align: center; display: inline-block;\">Eb (156 Hz)</span>"
      ],
      "text/plain": [
       "<IPython.core.display.HTML object>"
      ]
     },
     "metadata": {},
     "output_type": "display_data"
    }
   ],
   "source": [
    "global keep_going\n",
    "keep_going = True\n",
    "\n",
    "audio = pyaudio.PyAudio()\n",
    "\n",
    "frames_per_buffer = 8 * 1024\n",
    "frames_per_second = 44100\n",
    "stream = audio.open(format=pyaudio.paInt16,\n",
    "                    channels=1,\n",
    "                    frames_per_buffer=frames_per_buffer,\n",
    "                    rate=frames_per_second,\n",
    "                    input=True)\n",
    "\n",
    "def process_audio(chunk_bytes):\n",
    "    \"\"\"Small helper function for converting a stream of bytes to the fundamental frequency and visualizing it.\"\"\"\n",
    "    freq = compute_freq_from_zerocrossings(buffer=chunk_bytes, frames_per_second=frames_per_second)\n",
    "    tone = convert_freq_to_tone(freq) + \" (\" + str(int(freq)) + \" Hz)\"\n",
    "    html = '<span style=\"background-color: rgb(0, {:d}, 0); padding: 20px 0; width: 100px; text-align: center; display: inline-block;\">{:s}</span>'.format(int(35 * (np.log(freq))), tone)\n",
    "    clear_output(wait=True)\n",
    "    display(HTML(html))\n",
    "\n",
    "process_audio(stream.read(frames_per_buffer))\n",
    "while keep_going:\n",
    "    try:\n",
    "        process_audio(stream.read(frames_per_buffer))\n",
    "    except KeyboardInterrupt:\n",
    "        keep_going = False\n",
    "    except:\n",
    "        pass\n",
    "    \n",
    "stream.stop_stream()\n",
    "stream.close()\n",
    "\n",
    "audio.terminate()"
   ]
  },
  {
   "cell_type": "code",
   "execution_count": null,
   "metadata": {},
   "outputs": [],
   "source": []
  }
 ],
 "metadata": {
  "kernelspec": {
   "display_name": "Python 3",
   "language": "python",
   "name": "python3"
  },
  "language_info": {
   "codemirror_mode": {
    "name": "ipython",
    "version": 3
   },
   "file_extension": ".py",
   "mimetype": "text/x-python",
   "name": "python",
   "nbconvert_exporter": "python",
   "pygments_lexer": "ipython3",
   "version": "3.7.9"
  }
 },
 "nbformat": 4,
 "nbformat_minor": 4
}