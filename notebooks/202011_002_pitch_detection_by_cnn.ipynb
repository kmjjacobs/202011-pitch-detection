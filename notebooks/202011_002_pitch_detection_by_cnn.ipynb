{
 "cells": [
  {
   "cell_type": "markdown",
   "metadata": {},
   "source": [
    "# Pitch detection by CNN\n",
    "\n",
    "Of course, there also is a Convolutional Neural Network approach which is trained on data and it better suited for reducing the noise in a signal. This approach is implemented and shown in this notebook.\n",
    "\n",
    "## References\n",
    "\n",
    "1. CREPE: A Convolutional Representation for Pitch Estimation (2018)"
   ]
  },
  {
   "cell_type": "code",
   "execution_count": 1,
   "metadata": {},
   "outputs": [],
   "source": [
    "from IPython.display import display, clear_output, HTML\n",
    "import crepe\n",
    "import pyaudio\n",
    "import os\n",
    "\n",
    "import sys\n",
    "sys.path.append('..')\n",
    "%load_ext autoreload\n",
    "%autoreload 2\n",
    "\n",
    "from pitch_detection.utilities import *\n",
    "from pitch_detection.algorithms import *"
   ]
  },
  {
   "cell_type": "code",
   "execution_count": null,
   "metadata": {},
   "outputs": [
    {
     "data": {
      "text/html": [
       "<span style=\"background-color: rgb(0, 189, 0); padding: 20px 0; width: 100px; text-align: center; display: inline-block;\">Eb (311 Hz)</span>"
      ],
      "text/plain": [
       "<IPython.core.display.HTML object>"
      ]
     },
     "metadata": {},
     "output_type": "display_data"
    }
   ],
   "source": [
    "# Fix for Tensorflow on MacOS\n",
    "os.environ['KMP_DUPLICATE_LIB_OK'] = 'True'\n",
    "\n",
    "global keep_going\n",
    "keep_going = True\n",
    "\n",
    "audio = pyaudio.PyAudio()\n",
    "\n",
    "# The algorithm was trained on a sample rate of 16kHz, so to overcome resampling, 16kHz is used for recording\n",
    "frames_per_buffer = 256\n",
    "frames_per_second = 16000\n",
    "stream = audio.open(format=pyaudio.paInt16,\n",
    "                    channels=1,\n",
    "                    frames_per_buffer=frames_per_buffer,\n",
    "                    rate=frames_per_second,\n",
    "                    input=True)\n",
    "\n",
    "xs = []\n",
    "def process_audio(chunk_bytes):\n",
    "    \"\"\"Small helper function for converting a stream of bytes to the fundamental frequency and visualizing it.\"\"\"\n",
    "    chunk_data = np.frombuffer(chunk_bytes, np.int16)\n",
    "    time, frequency, confidence, activation = crepe.predict(chunk_data, frames_per_second, viterbi=True, verbose=False, model_capacity='tiny')\n",
    "    index = np.argmax(confidence)\n",
    "    if np.max(confidence) > 0.2:\n",
    "        freq = frequency[index]\n",
    "        tone = convert_freq_to_tone(freq) + \" (\" + str(int(freq)) + \" Hz)\"\n",
    "        html = '<span style=\"background-color: rgb(0, {:d}, 0); padding: 20px 0; width: 100px; text-align: center; display: inline-block;\">{:s}</span>'.format(int(155 + 100 * np.max(confidence)), tone)\n",
    "        clear_output(wait=True)\n",
    "        display(HTML(html))\n",
    "\n",
    "process_audio(stream.read(frames_per_buffer, exception_on_overflow=False))\n",
    "while keep_going:\n",
    "    try:\n",
    "        process_audio(stream.read(frames_per_buffer, exception_on_overflow=False))\n",
    "    except KeyboardInterrupt:\n",
    "        keep_going = False\n",
    "    except Exception as e:\n",
    "        raise e\n",
    "    \n",
    "stream.stop_stream()\n",
    "stream.close()\n",
    "\n",
    "audio.terminate()"
   ]
  },
  {
   "cell_type": "code",
   "execution_count": null,
   "metadata": {},
   "outputs": [],
   "source": []
  }
 ],
 "metadata": {
  "kernelspec": {
   "display_name": "Python 3",
   "language": "python",
   "name": "python3"
  },
  "language_info": {
   "codemirror_mode": {
    "name": "ipython",
    "version": 3
   },
   "file_extension": ".py",
   "mimetype": "text/x-python",
   "name": "python",
   "nbconvert_exporter": "python",
   "pygments_lexer": "ipython3",
   "version": "3.7.9"
  }
 },
 "nbformat": 4,
 "nbformat_minor": 4
}